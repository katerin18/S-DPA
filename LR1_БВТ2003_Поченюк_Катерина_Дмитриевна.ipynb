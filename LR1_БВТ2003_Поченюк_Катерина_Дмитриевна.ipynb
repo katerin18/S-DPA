{
 "cells": [
  {
   "cell_type": "markdown",
   "id": "a8ec4afe",
   "metadata": {},
   "source": [
    "# Лабораторная работа №1\n",
    "## Выполнила студентка группы БВТ2003 Поченюк Катерина Дмитриевна\n",
    "### Задание №1 (\"Hello, world!\")"
   ]
  },
  {
   "cell_type": "code",
   "execution_count": 7,
   "id": "367e1db0",
   "metadata": {},
   "outputs": [
    {
     "name": "stdout",
     "output_type": "stream",
     "text": [
      "Hello, World!\n"
     ]
    }
   ],
   "source": [
    "print(\"Hello, World!\")"
   ]
  },
  {
   "cell_type": "markdown",
   "id": "b192be6e",
   "metadata": {},
   "source": [
    "### Задание №2 (Генерация матриц)"
   ]
  },
  {
   "cell_type": "code",
   "execution_count": 8,
   "id": "9801fecb",
   "metadata": {},
   "outputs": [],
   "source": [
    "import random\n",
    "def numb_2(m=50, n=50, min_limit=-250, max_limit=1000):\n",
    "    matrix=[]\n",
    "    mas=[]\n",
    "    for i in range(m):\n",
    "        mas=[]\n",
    "        for j in range(n):\n",
    "            mas.append(random.randint(min_limit, max_limit))\n",
    "        matrix.append(mas)\n",
    "    return(matrix)"
   ]
  },
  {
   "cell_type": "code",
   "execution_count": 9,
   "id": "765dc368",
   "metadata": {},
   "outputs": [
    {
     "name": "stdout",
     "output_type": "stream",
     "text": [
      "[[2, 4, 1, 4], [5, 3, 2, 3], [5, 2, 4, 1]]\n"
     ]
    }
   ],
   "source": [
    "mmat=numb_2(3, 4, 1, 5)\n",
    "print(mmat)"
   ]
  },
  {
   "cell_type": "markdown",
   "id": "bc2f78ec",
   "metadata": {},
   "source": [
    "### Задание №3 (Реализация методов сортировки строк числовой матрицы)"
   ]
  },
  {
   "cell_type": "code",
   "execution_count": 10,
   "id": "b8cefc5a",
   "metadata": {},
   "outputs": [],
   "source": [
    "import copy\n",
    "import time"
   ]
  },
  {
   "cell_type": "markdown",
   "id": "408536ce",
   "metadata": {},
   "source": [
    "Функция для работы со строками матрицы"
   ]
  },
  {
   "cell_type": "code",
   "execution_count": 11,
   "id": "e4d3ca18",
   "metadata": {},
   "outputs": [],
   "source": [
    "def apply(matrix, function):\n",
    "    for i in range(len(matrix)):\n",
    "        matrix[i] = function(matrix[i])\n",
    "    return matrix"
   ]
  },
  {
   "cell_type": "markdown",
   "id": "24a6dc8d",
   "metadata": {},
   "source": [
    "**Сортировка выбором**"
   ]
  },
  {
   "cell_type": "code",
   "execution_count": 12,
   "id": "cf29b580",
   "metadata": {},
   "outputs": [],
   "source": [
    "def selection_s(mass = [6, 3, 8, 10, 45, 24, 30]):\n",
    "    for i in range(len(mass)):\n",
    "        max = mass[0]\n",
    "        im=0\n",
    "        for j in range(len(mass)-i):\n",
    "            if (mass[j]>max):\n",
    "                max=mass[j]\n",
    "                im=j\n",
    "        mass[im], mass[len(mass)-1-i]=mass[len(mass)-1-i], mass[im]\n",
    "    return(mass)"
   ]
  },
  {
   "cell_type": "code",
   "execution_count": 13,
   "id": "ed1e8d03",
   "metadata": {},
   "outputs": [
    {
     "data": {
      "text/plain": [
       "[[1, 2, 4, 4], [2, 3, 3, 5], [1, 2, 4, 5]]"
      ]
     },
     "execution_count": 13,
     "metadata": {},
     "output_type": "execute_result"
    }
   ],
   "source": [
    "apply(copy.deepcopy(mmat), selection_s)"
   ]
  },
  {
   "cell_type": "markdown",
   "id": "5ee7e2d6",
   "metadata": {},
   "source": [
    "**Сортировка вставкой**"
   ]
  },
  {
   "cell_type": "code",
   "execution_count": 20,
   "id": "f81de24e",
   "metadata": {},
   "outputs": [],
   "source": [
    "def insertion_s(mx): # [0,1,5,5,7,9,90]\n",
    "    for i in range(1, len(mx)):\n",
    "        temp = mx[i]\n",
    "        j = i - 1\n",
    "        while (j >= 0 and temp < mx[j]): \n",
    "            mx[j + 1] = mx[j]\n",
    "            j = j - 1\n",
    "        mx[j + 1] = temp\n",
    "    return mx"
   ]
  },
  {
   "cell_type": "code",
   "execution_count": 21,
   "id": "b84c8b2a",
   "metadata": {},
   "outputs": [
    {
     "data": {
      "text/plain": [
       "[[1, 2, 4, 4], [2, 3, 3, 5], [1, 2, 4, 5]]"
      ]
     },
     "execution_count": 21,
     "metadata": {},
     "output_type": "execute_result"
    }
   ],
   "source": [
    "apply(copy.deepcopy(mmat), insertion_s)"
   ]
  },
  {
   "cell_type": "markdown",
   "id": "237f037a",
   "metadata": {},
   "source": [
    "**Сортировка обменами (пузырьком)**"
   ]
  },
  {
   "cell_type": "code",
   "execution_count": 25,
   "id": "36b7d287",
   "metadata": {},
   "outputs": [],
   "source": [
    "def exchange_s(mx):\n",
    "    for i in range(len(mx)):\n",
    "        for j in range(len(mx)-1):\n",
    "            if (mx[j]>mx[j+1]):\n",
    "                mx[j], mx[j+1] = mx[j+1], mx[j]\n",
    "    return mx"
   ]
  },
  {
   "cell_type": "code",
   "execution_count": 26,
   "id": "b947fa24",
   "metadata": {},
   "outputs": [
    {
     "data": {
      "text/plain": [
       "[[1, 2, 4, 4], [2, 3, 3, 5], [1, 2, 4, 5]]"
      ]
     },
     "execution_count": 26,
     "metadata": {},
     "output_type": "execute_result"
    }
   ],
   "source": [
    "apply(copy.deepcopy(mmat), exchange_s)"
   ]
  },
  {
   "cell_type": "markdown",
   "id": "6e17caf7",
   "metadata": {},
   "source": [
    "**Сортировка Шелла**"
   ]
  },
  {
   "cell_type": "code",
   "execution_count": 27,
   "id": "5b4d370c",
   "metadata": {},
   "outputs": [],
   "source": [
    "def shell_s(mx=[1, 5, 2, 6, 12, 11]):\n",
    "    n=len(mx)\n",
    "    step=n//2\n",
    "    while step>0:\n",
    "        for i in range(step, n):\n",
    "            j=i\n",
    "            while (j>=step and mx[j]<mx[j-step]):\n",
    "                mx[j], mx[j-step] = mx[j-step], mx[j]\n",
    "                j=j-step\n",
    "        step=step//2\n",
    "    return mx"
   ]
  },
  {
   "cell_type": "code",
   "execution_count": 28,
   "id": "44fab0b9",
   "metadata": {},
   "outputs": [
    {
     "data": {
      "text/plain": [
       "[[1, 2, 4, 4], [2, 3, 3, 5], [1, 2, 4, 5]]"
      ]
     },
     "execution_count": 28,
     "metadata": {},
     "output_type": "execute_result"
    }
   ],
   "source": [
    "apply(copy.deepcopy(mmat), shell_s)"
   ]
  },
  {
   "cell_type": "markdown",
   "id": "812b2003",
   "metadata": {},
   "source": [
    "**Турнирная сортировка** "
   ]
  },
  {
   "cell_type": "code",
   "execution_count": 29,
   "id": "b0e0807d",
   "metadata": {},
   "outputs": [],
   "source": [
    "import heapq"
   ]
  },
  {
   "cell_type": "code",
   "execution_count": 30,
   "id": "6a21f0ab",
   "metadata": {},
   "outputs": [],
   "source": [
    "def tournament_s(mx):\n",
    "    cut=mx[:len(mx)//2].copy()\n",
    "    heapq.heapify(cut)\n",
    "    wins=[]\n",
    "    los=[]\n",
    "    \n",
    "    for i in range(len(mx)//2, len(mx)):\n",
    "        parent = cut.pop(0)\n",
    "        heapq.heapify(cut)\n",
    "        # parent=heapq.heappop(cut)\n",
    "        if (mx[i]<parent):\n",
    "            cut.append(parent)\n",
    "            heapq.heapify(cut)\n",
    "           # heapq.heappush(cut, parent)\n",
    "            if(not len(wins) or wins[-1]<=mx[i]):\n",
    "                wins.append(mx[i])\n",
    "            else:\n",
    "                los.append(mx[i])  \n",
    "        else:\n",
    "            cut.append(mx[i])\n",
    "            heapq.heapify(cut)\n",
    "            # heapq.heappush(cut, mx[i])\n",
    "            wins.append(parent)\n",
    "            \n",
    "    while(len(cut)):\n",
    "        wins.append(cut.pop(0))\n",
    "        heapq.heapify(cut)\n",
    "       # wins.append(heapq.heappop(cut))\n",
    "    fin = los + wins\n",
    "    cut=fin[:len(mx)//2]\n",
    "    heapq.heapify(cut)\n",
    "    res=[]\n",
    "    for i in range(len(mx)//2, len(fin)):\n",
    "        cut.append(fin[i])\n",
    "        heapq.heapify(cut)\n",
    "        # heapq.heappush(cut, fin[i])\n",
    "        parent=cut.pop(0)\n",
    "        #parent=heapq.heappop(cut)\n",
    "        res.append(parent)\n",
    "    while(len(cut)):\n",
    "        res.append(cut.pop(0))\n",
    "        heapq.heapify(cut)\n",
    "        # res.append(heapq.heappop(cut))\n",
    "    return res"
   ]
  },
  {
   "cell_type": "code",
   "execution_count": 31,
   "id": "37f251d3",
   "metadata": {},
   "outputs": [
    {
     "data": {
      "text/plain": [
       "[[1, 2, 4, 4], [2, 3, 3, 5], [1, 2, 4, 5]]"
      ]
     },
     "execution_count": 31,
     "metadata": {},
     "output_type": "execute_result"
    }
   ],
   "source": [
    "apply(copy.deepcopy(mmat), tournament_s)"
   ]
  },
  {
   "cell_type": "code",
   "execution_count": 32,
   "id": "f0c8aae9",
   "metadata": {},
   "outputs": [
    {
     "data": {
      "text/plain": [
       "[[2, 4, 1, 4], [5, 3, 2, 3], [5, 2, 4, 1]]"
      ]
     },
     "execution_count": 32,
     "metadata": {},
     "output_type": "execute_result"
    }
   ],
   "source": [
    "mmat"
   ]
  },
  {
   "cell_type": "markdown",
   "id": "d59393d9",
   "metadata": {},
   "source": [
    "**Быстрая сортировка**"
   ]
  },
  {
   "cell_type": "code",
   "execution_count": 33,
   "id": "9b7085f2",
   "metadata": {},
   "outputs": [],
   "source": [
    "def quick_s(mx): # более наглядный\n",
    "    n=len(mx)\n",
    "    left=[]\n",
    "    center=[]\n",
    "    right=[]\n",
    "    if n<2:\n",
    "        return mx\n",
    "    pivot = mx[0]\n",
    "    for i in range(n):\n",
    "        if mx[i]<pivot:\n",
    "            left.append(mx[i])\n",
    "        if mx[i]>pivot:\n",
    "            right.append(mx[i])\n",
    "        if mx[i]==pivot:\n",
    "            center.append(mx[i])\n",
    "    return quick_s(left)+center+quick_s(right)\n",
    "    "
   ]
  },
  {
   "cell_type": "code",
   "execution_count": 34,
   "id": "cda317a4",
   "metadata": {},
   "outputs": [
    {
     "data": {
      "text/plain": [
       "[[1, 2, 4, 4], [2, 3, 3, 5], [1, 2, 4, 5]]"
      ]
     },
     "execution_count": 34,
     "metadata": {},
     "output_type": "execute_result"
    }
   ],
   "source": [
    "apply(copy.deepcopy(mmat), quick_s)"
   ]
  },
  {
   "cell_type": "code",
   "execution_count": 35,
   "id": "37b97fe3",
   "metadata": {},
   "outputs": [],
   "source": [
    "def quick_sort(mx): # более ёмкий\n",
    "    if len(mx)<2:\n",
    "        return mx\n",
    "    pivot=mx[0]\n",
    "    left = list(filter(lambda x: x < pivot, mx))\n",
    "    center = [i for i in mx if i == pivot]\n",
    "    right = list(filter(lambda x: x > pivot, mx))\n",
    "    \n",
    "    return quick_sort(left)+center+quick_sort(right)"
   ]
  },
  {
   "cell_type": "code",
   "execution_count": 36,
   "id": "366fb5dd",
   "metadata": {},
   "outputs": [
    {
     "data": {
      "text/plain": [
       "[[1, 2, 4, 4], [2, 3, 3, 5], [1, 2, 4, 5]]"
      ]
     },
     "execution_count": 36,
     "metadata": {},
     "output_type": "execute_result"
    }
   ],
   "source": [
    "apply(copy.deepcopy(mmat), quick_sort)"
   ]
  },
  {
   "cell_type": "markdown",
   "id": "ff70ec9e",
   "metadata": {},
   "source": [
    "**Пирамидальная сортировка (кучей)**"
   ]
  },
  {
   "cell_type": "code",
   "execution_count": 37,
   "id": "95afb713",
   "metadata": {},
   "outputs": [],
   "source": [
    "def heapify(mx, n, i):\n",
    "    largest = i  \n",
    "    l = 2 * i + 1 \n",
    "    r = 2 * i + 2     \n",
    " \n",
    "    if (l < n and mx[largest] < mx[l]): # checking the left child\n",
    "        largest = l\n",
    " \n",
    "    if (r < n and mx[largest] < mx[r]): # checking the right child\n",
    "        largest = r\n",
    " \n",
    "    # change root, if needed\n",
    "    if largest != i:\n",
    "        mx[i], mx[largest] = mx[largest], mx[i]  # swap\n",
    " \n",
    "        # heapify the root\n",
    "        heapify(mx, n, largest)\n",
    "        \n",
    "def heap_s(mx):\n",
    "    n = len(mx)\n",
    " \n",
    "    # building a maxheap\n",
    "    for i in range(n//2 - 1, -1, -1):  \n",
    "        heapify(mx, n, i)\n",
    " \n",
    "    # moving the maximum to the end\n",
    "    for i in range(n-1, 0, -1):\n",
    "        mx[i], mx[0] = mx[0], mx[i]  # swap\n",
    "        heapify(mx, i, 0)\n",
    "    return mx"
   ]
  },
  {
   "cell_type": "code",
   "execution_count": 38,
   "id": "d471775d",
   "metadata": {},
   "outputs": [
    {
     "data": {
      "text/plain": [
       "[[1, 2, 4, 4], [2, 3, 3, 5], [1, 2, 4, 5]]"
      ]
     },
     "execution_count": 38,
     "metadata": {},
     "output_type": "execute_result"
    }
   ],
   "source": [
    "apply(copy.deepcopy(mmat), heap_s)"
   ]
  },
  {
   "cell_type": "markdown",
   "id": "fef77048",
   "metadata": {},
   "source": [
    "**Встроенная функция сортировки**"
   ]
  },
  {
   "cell_type": "code",
   "execution_count": 39,
   "id": "86a0d81d",
   "metadata": {},
   "outputs": [
    {
     "data": {
      "text/plain": [
       "[[1, 2, 4, 4], [2, 3, 3, 5], [1, 2, 4, 5]]"
      ]
     },
     "execution_count": 39,
     "metadata": {},
     "output_type": "execute_result"
    }
   ],
   "source": [
    "apply(copy.deepcopy(mmat), sorted)"
   ]
  },
  {
   "cell_type": "markdown",
   "id": "6a1edc8c",
   "metadata": {},
   "source": [
    "**Подсчет времени для каждой сортировки.**"
   ]
  },
  {
   "cell_type": "code",
   "execution_count": 40,
   "id": "135a0f53",
   "metadata": {},
   "outputs": [],
   "source": [
    "import timeit"
   ]
  },
  {
   "cell_type": "code",
   "execution_count": 41,
   "id": "d7e7a347",
   "metadata": {},
   "outputs": [
    {
     "name": "stdout",
     "output_type": "stream",
     "text": [
      "48.1 µs ± 8.05 µs per loop (mean ± std. dev. of 7 runs, 10000 loops each)\n",
      "None\n"
     ]
    }
   ],
   "source": [
    "a = %timeit apply(copy.deepcopy(mmat), selection_s)\n",
    "print(a)"
   ]
  },
  {
   "cell_type": "code",
   "execution_count": 42,
   "id": "825dc423",
   "metadata": {},
   "outputs": [
    {
     "name": "stdout",
     "output_type": "stream",
     "text": [
      "Время работы сортировки выбором: \n",
      "47.4 µs ± 10.1 µs per loop (mean ± std. dev. of 7 runs, 10000 loops each)\n",
      "Время работы сортировки вставкой: \n",
      "34.5 µs ± 10.2 µs per loop (mean ± std. dev. of 7 runs, 10000 loops each)\n",
      "Время работы сортировки пузырьком: \n",
      "38.2 µs ± 7.73 µs per loop (mean ± std. dev. of 7 runs, 10000 loops each)\n",
      "Время работы сортировки Шелла: \n",
      "32.1 µs ± 3.66 µs per loop (mean ± std. dev. of 7 runs, 10000 loops each)\n",
      "Время работы турнирной сортировки: \n",
      "50.1 µs ± 4.92 µs per loop (mean ± std. dev. of 7 runs, 10000 loops each)\n",
      "Время работы быстрой сортировки: \n",
      "52 µs ± 12.9 µs per loop (mean ± std. dev. of 7 runs, 10000 loops each)\n",
      "Время работы пирамидальной сортировки: \n",
      "48.9 µs ± 11.3 µs per loop (mean ± std. dev. of 7 runs, 10000 loops each)\n",
      "Время работы встроенной сортировки: \n",
      "24.6 µs ± 4.15 µs per loop (mean ± std. dev. of 7 runs, 100000 loops each)\n"
     ]
    }
   ],
   "source": [
    "print(\"Время работы сортировки выбором: \")\n",
    "%timeit apply(copy.deepcopy(mmat), selection_s)\n",
    "print(\"Время работы сортировки вставкой: \")\n",
    "%timeit apply(copy.deepcopy(mmat), insertion_s)\n",
    "print(\"Время работы сортировки пузырьком: \")\n",
    "%timeit apply(copy.deepcopy(mmat), exchange_s)\n",
    "print(\"Время работы сортировки Шелла: \")\n",
    "%timeit apply(copy.deepcopy(mmat), shell_s)\n",
    "print(\"Время работы турнирной сортировки: \")\n",
    "%timeit apply(copy.deepcopy(mmat), tournament_s)\n",
    "print(\"Время работы быстрой сортировки: \")\n",
    "%timeit apply(copy.deepcopy(mmat), quick_s)\n",
    "print(\"Время работы пирамидальной сортировки: \")\n",
    "%timeit apply(copy.deepcopy(mmat), heap_s)\n",
    "print(\"Время работы встроенной сортировки: \")\n",
    "%timeit apply(copy.deepcopy(mmat), sorted)"
   ]
  },
  {
   "cell_type": "markdown",
   "id": "b38b1aba",
   "metadata": {},
   "source": [
    "Время работы сортировки выбором:\n",
    "49.5 µs ± 4.77 µs per loop (mean ± std. dev. of 7 runs, 10000 loops each)\n",
    "\n",
    "Время работы сортировки вставкой:\n",
    "35.4 µs ± 4.05 µs per loop (mean ± std. dev. of 7 runs, 10000 loops each)\n",
    "\n",
    "Время работы сортировки пузырьком:\n",
    "46.6 µs ± 5.67 µs per loop (mean ± std. dev. of 7 runs, 10000 loops each)\n",
    "\n",
    "Время работы сортировки Шелла: \n",
    "45.6 µs ± 6.32 µs per loop (mean ± std. dev. of 7 runs, 10000 loops each)\n",
    "\n",
    "Время работы турнирной сортировки: \n",
    "58.6 µs ± 7.01 µs per loop (mean ± std. dev. of 7 runs, 10000 loops each)\n",
    "\n",
    "Время работы быстрой сортировки: \n",
    "57.1 µs ± 10.4 µs per loop (mean ± std. dev. of 7 runs, 10000 loops each)\n",
    "\n",
    "Время работы пирамидальной сортировки: \n",
    "62.5 µs ± 8.12 µs per loop (mean ± std. dev. of 7 runs, 10000 loops each)\n",
    "\n",
    "Время работы встроенной сортировки:\n",
    "34.9 µs ± 6.23 µs per loop (mean ± std. dev. of 7 runs, 10000 loops each)"
   ]
  },
  {
   "cell_type": "markdown",
   "id": "b000aa0e",
   "metadata": {},
   "source": [
    "**В итоге мы видим, что самой быстрой сортировкой остается встроенная. На втором месте оказалась сортировка вставкой.**"
   ]
  },
  {
   "cell_type": "code",
   "execution_count": null,
   "id": "ed0a48d5",
   "metadata": {},
   "outputs": [],
   "source": []
  }
 ],
 "metadata": {
  "kernelspec": {
   "display_name": "Python 3 (ipykernel)",
   "language": "python",
   "name": "python3"
  },
  "language_info": {
   "codemirror_mode": {
    "name": "ipython",
    "version": 3
   },
   "file_extension": ".py",
   "mimetype": "text/x-python",
   "name": "python",
   "nbconvert_exporter": "python",
   "pygments_lexer": "ipython3",
   "version": "3.9.7"
  }
 },
 "nbformat": 4,
 "nbformat_minor": 5
}
